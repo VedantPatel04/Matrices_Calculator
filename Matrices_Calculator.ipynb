{
  "nbformat": 4,
  "nbformat_minor": 0,
  "metadata": {
    "colab": {
      "provenance": [],
      "authorship_tag": "ABX9TyMl08lPbyrDUu4SaMit0SGR",
      "include_colab_link": true
    },
    "kernelspec": {
      "name": "python3",
      "display_name": "Python 3"
    },
    "language_info": {
      "name": "python"
    }
  },
  "cells": [
    {
      "cell_type": "markdown",
      "metadata": {
        "id": "view-in-github",
        "colab_type": "text"
      },
      "source": [
        "<a href=\"https://colab.research.google.com/github/VedantPatel04/Matrices_Calculator/blob/main/Matrices_Calculator.ipynb\" target=\"_parent\"><img src=\"https://colab.research.google.com/assets/colab-badge.svg\" alt=\"Open In Colab\"/></a>"
      ]
    },
    {
      "cell_type": "code",
      "execution_count": 2,
      "metadata": {
        "id": "frjj_u6V5G5h",
        "colab": {
          "base_uri": "https://localhost:8080/"
        },
        "outputId": "91e7ff89-14b1-4a96-83a2-43b3a65b5802",
        "cellView": "form",
        "collapsed": true
      },
      "outputs": [
        {
          "output_type": "stream",
          "name": "stdout",
          "text": [
            "Requirement already satisfied: numpy in /usr/local/lib/python3.10/dist-packages (1.25.2)\n"
          ]
        }
      ],
      "source": [
        "# @title\n",
        "!pip install numpy"
      ]
    },
    {
      "cell_type": "code",
      "source": [
        "# @title\n",
        "import numpy as np\n",
        "import time\n",
        "import random as rand\n",
        "import sympy as sym"
      ],
      "metadata": {
        "id": "6S8M7yNH5UYm",
        "cellView": "form"
      },
      "execution_count": 3,
      "outputs": []
    },
    {
      "cell_type": "markdown",
      "source": [
        "# MATRIX MULTPLICATION"
      ],
      "metadata": {
        "id": "DnIzCMwuMxWB"
      }
    },
    {
      "cell_type": "code",
      "source": [
        "# @title\n",
        "\n",
        "\n",
        "def matrix_mult(matrix1,matrix2):\n",
        "  m1 = np.array(matrix1)\n",
        "  m2 = np.array(matrix2)\n",
        "\n",
        "  return m1 @ m2\n",
        "\n",
        "## TEST CASE\n",
        "print(\"First matrix: \\n\")\n",
        "n_rows = int(input(\"Enter number of rows: \"))\n",
        "n_cols = int(input(\"Enter number of columns: \"))\n",
        "\n",
        "arr1 = [[int(input(\"Enter value for row {}  and column {} : \".format(r + 1, c + 1))) for c in range(n_cols)] for r in range(n_rows)]\n",
        "\n",
        "print(\"Matrix 1 =  \\n\",np.array(arr1))\n",
        "\n",
        "n_rows = int(input(\"\\n\\n\\n\\nSecond matrix:\\n\\nEnter number of rows: \"))\n",
        "n_cols = int(input(\"Enter number of columns: \"))\n",
        "\n",
        "arr2 = [[int(input(\"Enter value for row {}  and column {} : \".format(r + 1, c + 1))) for c in range(n_cols)] for r in range(n_rows)]\n",
        "\n",
        "print(\"Matrix 2 = \\n\",np.array(arr2))\n",
        "print(\"\\nThe multiplicative result of matrix 1 and matrix 2 = \\n\",matrix_mult(arr1,arr2))\n"
      ],
      "metadata": {
        "colab": {
          "base_uri": "https://localhost:8080/"
        },
        "id": "gsRxrScHM3hg",
        "outputId": "bbe924a2-86b4-4b09-ac9c-edfaddd2df29",
        "cellView": "form"
      },
      "execution_count": 5,
      "outputs": [
        {
          "output_type": "stream",
          "name": "stdout",
          "text": [
            "First matrix: \n",
            "\n",
            "Enter number of rows: 2\n",
            "Enter number of columns: 2\n",
            "Enter value for row 1  and column 1 : 3\n",
            "Enter value for row 1  and column 2 : 5\n",
            "Enter value for row 2  and column 1 : 6\n",
            "Enter value for row 2  and column 2 : 7\n",
            "Matrix 1 =  \n",
            " [[3 5]\n",
            " [6 7]]\n",
            "\n",
            "\n",
            "\n",
            "\n",
            "Second matrix:\n",
            "\n",
            "Enter number of rows: 2\n",
            "Enter number of columns: 2\n",
            "Enter value for row 1  and column 1 : 8\n",
            "Enter value for row 1  and column 2 : 7\n",
            "Enter value for row 2  and column 1 : 6\n",
            "Enter value for row 2  and column 2 : 5\n",
            "Matrix 2 = \n",
            " [[8 7]\n",
            " [6 5]]\n",
            "\n",
            "The multiplicative result of matrix 1 and matrix 2 = \n",
            " [[54 46]\n",
            " [90 77]]\n"
          ]
        }
      ]
    },
    {
      "cell_type": "markdown",
      "source": [
        "# POLYNOMIAL MULTIPLICATION"
      ],
      "metadata": {
        "id": "Z-zPo_622rJT"
      }
    },
    {
      "cell_type": "code",
      "source": [
        "# @title\n",
        "def list_mult(list1,list2):\n",
        "\n",
        "  # Multiplies the matrices of polynomial coefficients by FOIL\n",
        "  result = np.zeros(len(list1)*2 - 1)\n",
        "  for i in range(len(list1)):\n",
        "    for j in range(len(list2)):\n",
        "      result[i+j] += list1[i]*list2[j]\n",
        "  return result\n",
        "\n",
        "  # TEST CASES - Complete\n",
        "\n",
        "  # Case 1 - 4th degree polynomial\n",
        "  # OUTPUT FORMAT: [a,b,c,d,e] where a = a*x^4, b = b*x^3, c = c*x^2, d = d*x^1, e = x^0 * e\n",
        "listx = [1,2,3]\n",
        "listy=[4,5,6]\n",
        "start = time.time()\n",
        "\n",
        "list_mult(listx,listy)\n",
        "end = time.time()\n",
        "print(\"\\nList 1 = \", listx,\"\\nList 2 = \",listy)\n",
        "\n",
        "print(\"\\nMultiplication Result  = \",list_mult(listx,listy))\n",
        "print(\"\\nTime elapsed to calculate a 3rd degree polynomial multiplication: \", (end - start)*1000 , \"milliseconds\")\n",
        "# Case 2 - 13th degree polynomial\n",
        "\n",
        "list1 = rand.sample(range(1,100),12)\n",
        "print (\"\\n\\n\\n-----------------------------------------------------------------------------\\n\\nList 1: \",list1)\n",
        "list2 = rand.sample(range(1,100),12)\n",
        "print(\"List 2: \", list2)\n",
        "start = time.time()\n",
        "\n",
        "a = list_mult(list1,list1)\n",
        "end = time.time()\n",
        "\n",
        "print(\"\\nMultiplication result = \",a)\n",
        "print(\"\\nTime elapsed to calculate a 12th degree polynomial multiplication: \", (end - start)*1000 , \"milliseconds\")\n"
      ],
      "metadata": {
        "colab": {
          "base_uri": "https://localhost:8080/"
        },
        "id": "2fgCa46T-elM",
        "outputId": "9bf3db34-4a17-4831-cc96-7576d9dc8be0",
        "cellView": "form"
      },
      "execution_count": null,
      "outputs": [
        {
          "output_type": "stream",
          "name": "stdout",
          "text": [
            "\n",
            "List 1 =  [1, 2, 3] \n",
            "List 2 =  [4, 5, 6]\n",
            "\n",
            "Multiplication Result  =  [ 4. 13. 28. 27. 18.]\n",
            "\n",
            "Time elapsed to calculate a 3rd degree polynomial multiplication:  0.3113746643066406 milliseconds\n",
            "\n",
            "\n",
            "\n",
            "-----------------------------------------------------------------------------\n",
            "\n",
            "List 1:  [36, 37, 99, 79, 54, 89, 98, 78, 2, 24, 56, 46]\n",
            "List 2:  [30, 35, 24, 91, 97, 39, 56, 83, 57, 62, 95, 87]\n",
            "\n",
            "Multiplication result =  [ 1296.  2664.  8497. 13014. 19535. 26046. 30575. 39022. 42298. 42416.\n",
            " 37033. 38392. 41988. 36192. 24064. 19952. 22912. 17848.  7976.  2872.\n",
            "  5344.  5152.  2116.]\n",
            "\n",
            "Time elapsed to calculate a 12th degree polynomial multiplication:  0.17404556274414062 milliseconds\n"
          ]
        }
      ]
    },
    {
      "cell_type": "code",
      "source": [],
      "metadata": {
        "id": "aCSqgLrsMwo_"
      },
      "execution_count": null,
      "outputs": []
    },
    {
      "cell_type": "markdown",
      "source": [],
      "metadata": {
        "id": "XPYFjGFsnwe5"
      }
    },
    {
      "cell_type": "markdown",
      "source": [
        "# REDUCED ROW ECHELON FORM"
      ],
      "metadata": {
        "id": "HWXaqosxWHOI"
      }
    },
    {
      "cell_type": "code",
      "source": [
        "# @title\n",
        "A = sym.Matrix([[1,2,4,7,8],[6,9,4,2,0],[5,6,7,2,1],[8,9,4,3,4],[2,7,3,5,0]])\n",
        "print(\"\\nThe matrix A = \", A)\n",
        "\n",
        "start = time.time()\n",
        "RREF = A.rref()\n",
        "end = time.time()\n",
        "\n",
        "print(\"\\n\\nThe RREF of A = \", RREF)\n",
        "\n",
        "print(\"\\n\\nTime elapse for Reduced Row Echelon calculation: \", (end - start)*1000, \"milliseconds\" )"
      ],
      "metadata": {
        "colab": {
          "base_uri": "https://localhost:8080/"
        },
        "id": "fMfIHccXWUKA",
        "outputId": "b3d22d15-8866-4419-b154-23b22b036881",
        "cellView": "form"
      },
      "execution_count": 5,
      "outputs": [
        {
          "output_type": "stream",
          "name": "stdout",
          "text": [
            "\n",
            "The matrix A =  Matrix([[1, 2, 4, 7, 8], [6, 9, 4, 2, 0], [5, 6, 7, 2, 1], [8, 9, 4, 3, 4], [2, 7, 3, 5, 0]])\n",
            "\n",
            "\n",
            "The RREF of A =  (Matrix([\n",
            "[1, 0, 0, 0, 0],\n",
            "[0, 1, 0, 0, 0],\n",
            "[0, 0, 1, 0, 0],\n",
            "[0, 0, 0, 1, 0],\n",
            "[0, 0, 0, 0, 1]]), (0, 1, 2, 3, 4))\n",
            "\n",
            "\n",
            "Time elapse for Reduced Row Echelon calculation:  2.140522003173828 milliseconds\n"
          ]
        }
      ]
    },
    {
      "cell_type": "markdown",
      "source": [
        "# IDENTITY MATRIX"
      ],
      "metadata": {
        "id": "734kbQOC2tPG"
      }
    },
    {
      "cell_type": "code",
      "source": [
        "# @title\n",
        "def identityMatrix(dimension):\n",
        "  matrix = np.eye(dimension)\n",
        "\n",
        "  return matrix\n",
        "\n",
        "# TEST CASE - Complete\n",
        "print(identityMatrix(5))"
      ],
      "metadata": {
        "colab": {
          "base_uri": "https://localhost:8080/"
        },
        "id": "vx34HtV79HU4",
        "outputId": "f8bd2a9d-5ec4-422d-c603-07726e1dd2eb"
      },
      "execution_count": null,
      "outputs": [
        {
          "output_type": "stream",
          "name": "stdout",
          "text": [
            "[[1. 0. 0. 0. 0.]\n",
            " [0. 1. 0. 0. 0.]\n",
            " [0. 0. 1. 0. 0.]\n",
            " [0. 0. 0. 1. 0.]\n",
            " [0. 0. 0. 0. 1.]]\n"
          ]
        }
      ]
    },
    {
      "cell_type": "markdown",
      "source": [
        "# LIST ADDITION AND SUBTRACTION"
      ],
      "metadata": {
        "id": "0peEB6Hp2nYt"
      }
    },
    {
      "cell_type": "code",
      "source": [
        "# @title\n",
        "def add_lists(L1,L2):\n",
        "\n",
        "  # Add each element from row i and column j\n",
        "  return np.add(L1,L2)\n",
        "\n",
        "def subtract_lists(L1,L2):\n",
        "  return np.subtract(L1,L2)\n",
        "\n",
        "# TEST CASE ADD\n",
        "print(\"Provide matrices to add and subtract: \\n\")\n",
        "print(\"\\nFirst matrix: \\n\")\n",
        "n_rows = int(input(\"Enter number of rows: \"))\n",
        "n_cols = int(input(\"Enter number of columns: \"))\n",
        "\n",
        "arr1 = [[int(input(\"Enter value for row {}  and column {} : \".format(r + 1, c + 1))) for c in range(n_cols)] for r in range(n_rows)]\n",
        "\n",
        "print(\"Matrix 1 =  \\n\",np.array(arr1))\n",
        "\n",
        "\n",
        "\n",
        "n_rows = int(input(\"\\n\\nSecond matrix:\\n\\nEnter number of rows: \"))\n",
        "n_cols = int(input(\"Enter number of columns: \"))\n",
        "\n",
        "arr2 = [[int(input(\"Enter value for row {}  and column {} : \".format(r + 1, c + 1))) for c in range(n_cols)] for r in range(n_rows)]\n",
        "\n",
        "print(\"Matrix 2 = \\n\",np.array(arr2))\n",
        "\n",
        "print(\"\\n\\n---------------------------------------\\nList 1 + List 1 = \", add_lists(arr1,arr2))\n",
        "# TEST CASE SUBTRACT\n",
        "\n",
        "print(\"\\n\\nList 1 - List 2 = \",subtract_lists(arr1,arr2))"
      ],
      "metadata": {
        "colab": {
          "base_uri": "https://localhost:8080/"
        },
        "id": "gFbs_iEBHTA3",
        "outputId": "30a81508-01cb-436e-92cf-403596a18f0c",
        "cellView": "form"
      },
      "execution_count": null,
      "outputs": [
        {
          "output_type": "stream",
          "name": "stdout",
          "text": [
            "Provide matrices to add and subtract: \n",
            "\n",
            "\n",
            "First matrix: \n",
            "\n",
            "Enter number of rows: 1\n",
            "Enter number of columns: 2\n",
            "Enter value for row 1  and column 1 : 3\n",
            "Enter value for row 1  and column 2 : 3\n",
            "Matrix 1 =  \n",
            " [[3 3]]\n",
            "\n",
            "\n",
            "Second matrix:\n",
            "\n",
            "Enter number of rows: 1\n",
            "Enter number of columns: 2\n",
            "Enter value for row 1  and column 1 : 4\n",
            "Enter value for row 1  and column 2 : 4\n",
            "Matrix 2 = \n",
            " [[4 4]]\n",
            "\n",
            "\n",
            "---------------------------------------\n",
            "List 1 + List 1 =  [[7 7]]\n",
            "\n",
            "\n",
            "List 1 - List 2 =  [[-1 -1]]\n"
          ]
        }
      ]
    },
    {
      "cell_type": "markdown",
      "source": [
        "\n",
        "\n",
        "\n",
        "\n",
        "# DETERMINANT"
      ],
      "metadata": {
        "id": "w9KD58cX2h3D"
      }
    },
    {
      "cell_type": "markdown",
      "source": [],
      "metadata": {
        "id": "tqJt9gYZR4gS"
      }
    },
    {
      "cell_type": "code",
      "source": [
        "# @title\n",
        "def get_det(matrix):\n",
        "   try:\n",
        "    return np.linalg.det(matrix)\n",
        "   except np.linalg.LinAlgError:\n",
        "      return \"\\n\\nA Linear Algebra Error occured: Determinants of an M x N matrix could not be calculated \"\n",
        "\n",
        "# Retrieves determinant of any N x N matrix\n",
        "\n",
        "\n",
        "## TEST CASES - Complete\n",
        "\n",
        "# Case 1 - Square Matrix\n",
        "list_A = np.random.randn(3,3)\n",
        "\n",
        "# Case 2 -  M x N matrix: Raises Math Error because a determinant of an m x n matrix isn't real\n",
        "list_B = np.random.randn(4,3)\n",
        "print(\"List A: \",list_A)\n",
        "print(\"\\n(Rows,Columns) = \",np.shape(list_A))\n",
        "print(\"\\nDeterminant: \",get_det(list_A))\n",
        "\n",
        "print(\"\\n\\n---------------------------------------------------------------------\\n\\nList B: \",list_B)\n",
        "print(\"\\n(Rows,Columns) = \",np.shape(list_B))\n",
        "print(\"\\nDeterminant: \",get_det(list_B))\n"
      ],
      "metadata": {
        "colab": {
          "base_uri": "https://localhost:8080/"
        },
        "id": "ea4EGZQdxq6K",
        "outputId": "b685eab9-8b07-49a0-8c6c-5e5e55fcef36"
      },
      "execution_count": null,
      "outputs": [
        {
          "output_type": "stream",
          "name": "stdout",
          "text": [
            "List A:  [[ 0.51167206 -0.40640818  0.62069578]\n",
            " [ 1.39553892 -0.37574077  0.07483005]\n",
            " [-1.39937612 -1.56868274 -0.97257487]]\n",
            "\n",
            "(Rows,Columns) =  (3, 3)\n",
            "\n",
            "Determinant:  -1.9471655179506664\n",
            "\n",
            "\n",
            "---------------------------------------------------------------------\n",
            "\n",
            "List B:  [[ 1.36501822 -1.08837964 -0.27629383]\n",
            " [-0.70928894 -0.10863957 -0.90171124]\n",
            " [-0.05387099  0.59579314  0.67769082]\n",
            " [ 0.76371169 -1.32025926 -1.37018139]]\n",
            "\n",
            "(Rows,Columns) =  (4, 3)\n",
            "\n",
            "Determinant:  \n",
            "\n",
            "A Linear Algebra Error occured: Determinants of an M x N matrix could not be calculated \n"
          ]
        }
      ]
    },
    {
      "cell_type": "markdown",
      "source": [
        "# EIGENVALUES\n"
      ],
      "metadata": {
        "id": "lq7PSZshorSa"
      }
    },
    {
      "cell_type": "code",
      "source": [
        "# @title\n",
        "def get_eigvalues(matrix):\n",
        "\n",
        "  return np.linalg.eigvals(matrix)\n",
        "# TEST CASES - Complete\n",
        "\n",
        "# Case 1 - simple N x N matrix\n",
        "print(\"\\n\\nEnter a matrix for eigenvalue calculation: \")\n",
        "n_rows = int(input(\"\\n\\nEnter number of rows: \"))\n",
        "n_cols = int(input(\"\\nEnter number of columns: \"))\n",
        "\n",
        "arr1 = [[int(input(\"Enter value for row {}  and column {} : \".format(r + 1, c + 1))) for c in range(n_cols)] for r in range(n_rows)]\n",
        "\n",
        "print(\"Matrix 1 =  \\n\",np.array(arr1))\n",
        "\n",
        "\n",
        "print(\"Eigenvalues for the test matrix: \", get_eigvalues(arr1))"
      ],
      "metadata": {
        "id": "TZtikJ6I2hCQ",
        "colab": {
          "base_uri": "https://localhost:8080/"
        },
        "outputId": "df3eee18-a1bc-4118-d163-3199fde006b4"
      },
      "execution_count": null,
      "outputs": [
        {
          "output_type": "stream",
          "name": "stdout",
          "text": [
            "\n",
            "\n",
            "Enter a matrix for eigenvalue calculation: \n"
          ]
        }
      ]
    },
    {
      "cell_type": "code",
      "source": [],
      "metadata": {
        "id": "HckiiZYfODpv"
      },
      "execution_count": null,
      "outputs": []
    }
  ]
}