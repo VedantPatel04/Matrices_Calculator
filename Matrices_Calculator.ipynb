{
  "cells": [
    {
      "cell_type": "markdown",
      "metadata": {
        "id": "0smG7ZGNJSOU"
      },
      "source": [
        "RUN 2 CELLS BELOW FIRST!!"
      ]
    },
    {
      "cell_type": "code",
      "execution_count": null,
      "metadata": {
        "cellView": "form",
        "colab": {
          "base_uri": "https://localhost:8080/"
        },
        "collapsed": true,
        "id": "frjj_u6V5G5h",
        "outputId": "cd068109-5600-4036-9710-d1aeaf817209"
      },
      "outputs": [
        {
          "output_type": "stream",
          "name": "stdout",
          "text": [
            "Requirement already satisfied: numpy in /usr/local/lib/python3.10/dist-packages (1.25.2)\n"
          ]
        }
      ],
      "source": [
        "# @title\n",
        "!pip install numpy"
      ]
    },
    {
      "cell_type": "code",
      "execution_count": null,
      "metadata": {
        "cellView": "form",
        "id": "6S8M7yNH5UYm"
      },
      "outputs": [],
      "source": [
        "# @title\n",
        "import numpy as np\n",
        "import time\n",
        "import random as rand\n",
        "import sympy as sym"
      ]
    },
    {
      "cell_type": "code",
      "source": [],
      "metadata": {
        "id": "b7w94CWYPDyR"
      },
      "execution_count": null,
      "outputs": []
    },
    {
      "cell_type": "markdown",
      "metadata": {
        "id": "DnIzCMwuMxWB"
      },
      "source": [
        "# MATRIX MULTPLICATION"
      ]
    },
    {
      "cell_type": "code",
      "execution_count": null,
      "metadata": {
        "colab": {
          "base_uri": "https://localhost:8080/"
        },
        "id": "gsRxrScHM3hg",
        "outputId": "1480f726-da63-4c7d-b29d-237de8e4bf1b"
      },
      "outputs": [
        {
          "output_type": "stream",
          "name": "stdout",
          "text": [
            "First matrix: \n",
            "\n",
            "Enter number of rows: 2\n",
            "Enter number of columns: 2\n",
            "Enter value for row 1  and column 1 : -43534\n",
            "Enter value for row 1  and column 2 : 5435\n",
            "Enter value for row 2  and column 1 : 0.78567\n",
            "Enter value for row 2  and column 2 : 3\n",
            "Matrix 1 =  \n",
            " [[-4.3534e+04  5.4350e+03]\n",
            " [ 7.8567e-01  3.0000e+00]]\n",
            "\n",
            "\n",
            "\n",
            "\n",
            "Second matrix:\n",
            "\n",
            "Enter number of rows: 2\n",
            "Enter number of columns: 2\n",
            "Enter value for row 1  and column 1 : 4353\n",
            "Enter value for row 1  and column 2 : -600064\n",
            "Enter value for row 2  and column 1 : 6.9999\n",
            "Enter value for row 2  and column 2 : 7.8\n",
            "Matrix 2 = \n",
            " [[ 4.35300e+03 -6.00064e+05]\n",
            " [ 6.99990e+00  7.80000e+00]]\n",
            "\n",
            "The multiplicative result of matrix 1 and matrix 2 = \n",
            " [[-1.89465458e+08  2.61232286e+10]\n",
            " [ 3.44102121e+03 -4.71428883e+05]]\n"
          ]
        }
      ],
      "source": [
        "# @title\n",
        "\n",
        "\n",
        "def matrix_mult(matrix1,matrix2):\n",
        "  m1 = np.array(matrix1)\n",
        "  m2 = np.array(matrix2)\n",
        "\n",
        "  return m1 @ m2\n",
        "\n",
        "## TEST CASE\n",
        "print(\"First matrix: \\n\")\n",
        "n_rows = int(input(\"Enter number of rows: \"))\n",
        "n_cols = int(input(\"Enter number of columns: \"))\n",
        "\n",
        "arr1 = [[float(input(\"Enter value for row {}  and column {} : \".format(r + 1, c + 1))) for c in range(n_cols)] for r in range(n_rows)]\n",
        "\n",
        "print(\"Matrix 1 =  \\n\",np.array(arr1))\n",
        "\n",
        "n_rows = int(input(\"\\n\\n\\n\\nSecond matrix:\\n\\nEnter number of rows: \"))\n",
        "n_cols = int(input(\"Enter number of columns: \"))\n",
        "\n",
        "arr2 = [[float(input(\"Enter value for row {}  and column {} : \".format(r + 1, c + 1))) for c in range(n_cols)] for r in range(n_rows)]\n",
        "\n",
        "print(\"Matrix 2 = \\n\",np.array(arr2))\n",
        "print(\"\\nThe multiplicative result of matrix 1 and matrix 2 = \\n\",matrix_mult(arr1,arr2))\n"
      ]
    },
    {
      "cell_type": "code",
      "execution_count": null,
      "metadata": {
        "id": "aCSqgLrsMwo_"
      },
      "outputs": [],
      "source": []
    },
    {
      "cell_type": "markdown",
      "metadata": {
        "id": "XPYFjGFsnwe5"
      },
      "source": []
    },
    {
      "cell_type": "markdown",
      "metadata": {
        "id": "HWXaqosxWHOI"
      },
      "source": [
        "# REDUCED ROW ECHELON FORM"
      ]
    },
    {
      "cell_type": "code",
      "execution_count": null,
      "metadata": {
        "colab": {
          "base_uri": "https://localhost:8080/"
        },
        "id": "fMfIHccXWUKA",
        "outputId": "b3d22d15-8866-4419-b154-23b22b036881"
      },
      "outputs": [
        {
          "name": "stdout",
          "output_type": "stream",
          "text": [
            "\n",
            "The matrix A =  Matrix([[1, 2, 4, 7, 8], [6, 9, 4, 2, 0], [5, 6, 7, 2, 1], [8, 9, 4, 3, 4], [2, 7, 3, 5, 0]])\n",
            "\n",
            "\n",
            "The RREF of A =  (Matrix([\n",
            "[1, 0, 0, 0, 0],\n",
            "[0, 1, 0, 0, 0],\n",
            "[0, 0, 1, 0, 0],\n",
            "[0, 0, 0, 1, 0],\n",
            "[0, 0, 0, 0, 1]]), (0, 1, 2, 3, 4))\n",
            "\n",
            "\n",
            "Time elapse for Reduced Row Echelon calculation:  2.140522003173828 milliseconds\n"
          ]
        }
      ],
      "source": [
        "# @title\n",
        "A = sym.Matrix([[1,2,4,7,8],\n",
        "                [6,9,4,2,0],\n",
        "                [5,6,7,2,1],\n",
        "                [8,9,4,3,4],\n",
        "                [2,7,3,5,0]])\n",
        "\n",
        "print(\"\\nThe matrix A = \", A)\n",
        "\n",
        "start = time.time()\n",
        "RREF = A.rref()\n",
        "end = time.time()\n",
        "\n",
        "print(\"\\n\\nThe RREF of A = \", RREF)\n",
        "\n",
        "print(\"\\n\\nTime elapse for Reduced Row Echelon calculation: \", (end - start)*1000, \"milliseconds\" )"
      ]
    },
    {
      "cell_type": "markdown",
      "metadata": {
        "id": "0peEB6Hp2nYt"
      },
      "source": [
        "# LIST ADDITION AND SUBTRACTION"
      ]
    },
    {
      "cell_type": "code",
      "execution_count": null,
      "metadata": {
        "colab": {
          "base_uri": "https://localhost:8080/"
        },
        "id": "gFbs_iEBHTA3",
        "outputId": "d57ee446-3c4b-4995-fde2-f57344aeaa2e"
      },
      "outputs": [
        {
          "name": "stdout",
          "output_type": "stream",
          "text": [
            "Provide matrices to add and subtract: \n",
            "\n",
            "\n",
            "First matrix: \n",
            "\n",
            "Enter number of rows: 2\n",
            "Enter number of columns: 1\n",
            "Enter value for row 1  and column 1 : 41\n",
            "Enter value for row 2  and column 1 : 2\n",
            "Matrix 1 =  \n",
            " [[41]\n",
            " [ 2]]\n",
            "\n",
            "\n",
            "Second matrix:\n",
            "\n",
            "Enter number of rows: 2\n",
            "Enter number of columns: 1\n",
            "Enter value for row 1  and column 1 : -6\n",
            "Enter value for row 2  and column 1 : -2\n",
            "Matrix 2 = \n",
            " [[-6]\n",
            " [-2]]\n",
            "\n",
            "\n",
            "---------------------------------------\n",
            "List 1 + List 2 =  [[35]\n",
            " [ 0]]\n",
            "\n",
            "\n",
            "List 1 - List 2 =  [[47]\n",
            " [ 4]]\n"
          ]
        }
      ],
      "source": [
        "# @title\n",
        "def add_lists(L1,L2):\n",
        "\n",
        "  # Add each element from row i and column j\n",
        "  return np.add(L1,L2)\n",
        "\n",
        "def subtract_lists(L1,L2):\n",
        "  return np.subtract(L1,L2)\n",
        "\n",
        "# TEST CASE ADD\n",
        "print(\"Provide matrices to add and subtract: \\n\")\n",
        "print(\"\\nFirst matrix: \\n\")\n",
        "n_rows = int(input(\"Enter number of rows: \"))\n",
        "n_cols = int(input(\"Enter number of columns: \"))\n",
        "\n",
        "arr1 = [[int(input(\"Enter value for row {}  and column {} : \".format(r + 1, c + 1))) for c in range(n_cols)] for r in range(n_rows)]\n",
        "\n",
        "print(\"Matrix 1 =  \\n\",np.array(arr1))\n",
        "\n",
        "\n",
        "\n",
        "n_rows = int(input(\"\\n\\nSecond matrix:\\n\\nEnter number of rows: \"))\n",
        "n_cols = int(input(\"Enter number of columns: \"))\n",
        "\n",
        "arr2 = [[int(input(\"Enter value for row {}  and column {} : \".format(r + 1, c + 1))) for c in range(n_cols)] for r in range(n_rows)]\n",
        "\n",
        "print(\"Matrix 2 = \\n\",np.array(arr2))\n",
        "\n",
        "print(\"\\n\\n---------------------------------------\\nList 1 + List 2 = \", add_lists(arr1,arr2))\n",
        "# TEST CASE SUBTRACT\n",
        "\n",
        "print(\"\\n\\nList 1 - List 2 = \",subtract_lists(arr1,arr2))"
      ]
    },
    {
      "cell_type": "markdown",
      "metadata": {
        "id": "w9KD58cX2h3D"
      },
      "source": [
        "\n",
        "\n",
        "\n",
        "\n",
        "# DETERMINANT"
      ]
    },
    {
      "cell_type": "code",
      "execution_count": null,
      "metadata": {
        "cellView": "form",
        "colab": {
          "base_uri": "https://localhost:8080/"
        },
        "id": "ea4EGZQdxq6K",
        "outputId": "94bb4642-56eb-410e-aa54-d66bd65d3de3"
      },
      "outputs": [
        {
          "name": "stdout",
          "output_type": "stream",
          "text": [
            "\n",
            "Matrix: \n",
            "\n",
            "Enter number of rows: 3\n",
            "Enter number of columns: 3\n",
            "Enter value for row 1  and column 1 : 2\n",
            "Enter value for row 1  and column 2 : 1\n",
            "Enter value for row 1  and column 3 : 1\n",
            "Enter value for row 2  and column 1 : 1\n",
            "Enter value for row 2  and column 2 : 2\n",
            "Enter value for row 2  and column 3 : 1\n",
            "Enter value for row 3  and column 1 : 1\n",
            "Enter value for row 3  and column 2 : 1\n",
            "Enter value for row 3  and column 3 : 2\n",
            "\n",
            "Matrix =  \n",
            " [[2 1 1]\n",
            " [1 2 1]\n",
            " [1 1 2]]\n",
            "\n",
            "(Rows,Columns) =  (3, 3)\n",
            "\n",
            "Determinant:  4.0\n",
            "\n",
            "\n",
            "---------------------------------------------------------------------\n",
            "\n",
            "List B:  [[ 0.36128675  0.03169215  0.32280128]\n",
            " [-1.05300665 -0.21991871  0.61455083]\n",
            " [-0.60195698 -0.06693315 -1.13750534]\n",
            " [-0.26430445  3.67168109 -1.18387247]]\n",
            "\n",
            "(Rows,Columns) =  (4, 3)\n",
            "\n",
            "Determinant:  \n",
            "\n",
            "A LINEAR ALGEBRA ERROR OCCURED: Determinants of an M x N matrix could not be calculated \n"
          ]
        }
      ],
      "source": [
        "# @title\n",
        "def get_det(matrix):\n",
        "   try:\n",
        "    return np.linalg.det(matrix)\n",
        "   except np.linalg.LinAlgError:\n",
        "      return \"\\n\\nA LINEAR ALGEBRA ERROR OCCURED: Determinants of an M x N matrix could not be calculated \"\n",
        "\n",
        "# Retrieves determinant of any N x N matrix\n",
        "\n",
        "\n",
        "## TEST CASES - Complete\n",
        "\n",
        "# Case 1 - Square Matrix\n",
        "\n",
        "print(\"\\nMatrix: \\n\")\n",
        "n_rows = int(input(\"Enter number of rows: \"))\n",
        "n_cols = int(input(\"Enter number of columns: \"))\n",
        "\n",
        "arr1 = [[int(input(\"Enter value for row {}  and column {} : \".format(r + 1, c + 1))) for c in range(n_cols)] for r in range(n_rows)]\n",
        "\n",
        "print(\"\\nMatrix =  \\n\",np.array(arr1))\n",
        "list_A = np.matrix(arr1)\n",
        "# [2,1,1],[1,2,1],[1,1,2]\n",
        "\n",
        "# Case 2 -  M x N matrix: Raises Math Error because a determinant of an m x n matrix isn't real\n",
        "list_B = np.random.randn(4,3)\n",
        "#print(\"List A: \",list_A)\n",
        "print(\"\\n(Rows,Columns) = \",np.shape(list_A))\n",
        "print(\"\\nDeterminant: \",get_det(list_A))\n",
        "\n",
        "print(\"\\n\\n---------------------------------------------------------------------\\n\\nList B: \",list_B)\n",
        "print(\"\\n(Rows,Columns) = \",np.shape(list_B))\n",
        "print(\"\\nDeterminant: \",get_det(list_B))\n"
      ]
    },
    {
      "cell_type": "markdown",
      "metadata": {
        "id": "lq7PSZshorSa"
      },
      "source": [
        "# EIGENVALUES\n"
      ]
    },
    {
      "cell_type": "code",
      "execution_count": null,
      "metadata": {
        "colab": {
          "base_uri": "https://localhost:8080/",
          "height": 419
        },
        "id": "TZtikJ6I2hCQ",
        "outputId": "ae6ca574-9281-4e71-c510-8903801be85d"
      },
      "outputs": [
        {
          "name": "stdout",
          "output_type": "stream",
          "text": [
            "\n",
            "\n",
            "Enter a matrix for eigenvalue calculation: \n",
            "\n",
            "\n",
            "Enter number of rows: 2\n",
            "\n",
            "Enter number of columns: 2\n",
            "Enter value for row 1  and column 1 : -0.66846\n",
            "Enter value for row 1  and column 2 : 567\n",
            "Enter value for row 2  and column 1 : 767\n",
            "Enter value for row 2  and column 2 : 9.69\n"
          ]
        },
        {
          "output_type": "error",
          "ename": "NameError",
          "evalue": "name 'np' is not defined",
          "traceback": [
            "\u001b[0;31m---------------------------------------------------------------------------\u001b[0m",
            "\u001b[0;31mNameError\u001b[0m                                 Traceback (most recent call last)",
            "\u001b[0;32m<ipython-input-1-1eebe5048548>\u001b[0m in \u001b[0;36m<cell line: 18>\u001b[0;34m()\u001b[0m\n\u001b[1;32m     16\u001b[0m \u001b[0marr1\u001b[0m \u001b[0;34m=\u001b[0m \u001b[0;34m[\u001b[0m\u001b[0;34m[\u001b[0m\u001b[0mfloat\u001b[0m\u001b[0;34m(\u001b[0m\u001b[0minput\u001b[0m\u001b[0;34m(\u001b[0m\u001b[0;34m\"Enter value for row {}  and column {} : \"\u001b[0m\u001b[0;34m.\u001b[0m\u001b[0mformat\u001b[0m\u001b[0;34m(\u001b[0m\u001b[0mr\u001b[0m \u001b[0;34m+\u001b[0m \u001b[0;36m1\u001b[0m\u001b[0;34m,\u001b[0m \u001b[0mc\u001b[0m \u001b[0;34m+\u001b[0m \u001b[0;36m1\u001b[0m\u001b[0;34m)\u001b[0m\u001b[0;34m)\u001b[0m\u001b[0;34m)\u001b[0m \u001b[0;32mfor\u001b[0m \u001b[0mc\u001b[0m \u001b[0;32min\u001b[0m \u001b[0mrange\u001b[0m\u001b[0;34m(\u001b[0m\u001b[0mn_cols\u001b[0m\u001b[0;34m)\u001b[0m\u001b[0;34m]\u001b[0m \u001b[0;32mfor\u001b[0m \u001b[0mr\u001b[0m \u001b[0;32min\u001b[0m \u001b[0mrange\u001b[0m\u001b[0;34m(\u001b[0m\u001b[0mn_rows\u001b[0m\u001b[0;34m)\u001b[0m\u001b[0;34m]\u001b[0m\u001b[0;34m\u001b[0m\u001b[0;34m\u001b[0m\u001b[0m\n\u001b[1;32m     17\u001b[0m \u001b[0;34m\u001b[0m\u001b[0m\n\u001b[0;32m---> 18\u001b[0;31m \u001b[0mprint\u001b[0m\u001b[0;34m(\u001b[0m\u001b[0;34m\"Matrix 1 =  \\n\"\u001b[0m\u001b[0;34m,\u001b[0m\u001b[0mnp\u001b[0m\u001b[0;34m.\u001b[0m\u001b[0marray\u001b[0m\u001b[0;34m(\u001b[0m\u001b[0marr1\u001b[0m\u001b[0;34m)\u001b[0m\u001b[0;34m)\u001b[0m\u001b[0;34m\u001b[0m\u001b[0;34m\u001b[0m\u001b[0m\n\u001b[0m\u001b[1;32m     19\u001b[0m \u001b[0;34m\u001b[0m\u001b[0m\n\u001b[1;32m     20\u001b[0m \u001b[0;34m\u001b[0m\u001b[0m\n",
            "\u001b[0;31mNameError\u001b[0m: name 'np' is not defined"
          ]
        }
      ],
      "source": [
        "# @title\n",
        "def get_eigvalues(matrix):\n",
        "\n",
        "  return np.linalg.eigvals(matrix)\n",
        "# TEST CASES - Complete\n",
        "\n",
        "# Case 1 - simple N x N matrix\n",
        "print(\"\\n\\nEnter a matrix for eigenvalue calculation: \")\n",
        "n_rows = int(input(\"\\n\\nEnter number of rows: \"))\n",
        "n_cols = int(input(\"\\nEnter number of columns: \"))\n",
        "\n",
        "## TEST MATRIX -\n",
        "\n",
        "## [[4,8][6,26]]\n",
        "\n",
        "arr1 = [[float(input(\"Enter value for row {}  and column {} : \".format(r + 1, c + 1))) for c in range(n_cols)] for r in range(n_rows)]\n",
        "\n",
        "print(\"Matrix 1 =  \\n\",np.array(arr1))\n",
        "\n",
        "\n",
        "print(\"Eigenvalues for the test matrix: \", get_eigvalues(arr1))"
      ]
    },
    {
      "cell_type": "markdown",
      "metadata": {
        "id": "Z-zPo_622rJT"
      },
      "source": [
        "# POLYNOMIAL MULTIPLICATION"
      ]
    },
    {
      "cell_type": "code",
      "execution_count": null,
      "metadata": {
        "cellView": "form",
        "colab": {
          "base_uri": "https://localhost:8080/"
        },
        "id": "2fgCa46T-elM",
        "outputId": "d4d06328-6fa4-4513-8c7d-30d6fb2d110f"
      },
      "outputs": [
        {
          "name": "stdout",
          "output_type": "stream",
          "text": [
            "\n",
            "List 1 =  [1, 2, 3] \n",
            "List 2 =  [4, 5, 6]\n",
            "\n",
            "Multiplication Result  =  [ 4. 13. 28. 27. 18.]\n",
            "\n",
            "Time elapsed to calculate a 3rd degree polynomial multiplication:  0.08988380432128906 milliseconds\n",
            "\n",
            "\n",
            "\n",
            "-----------------------------------------------------------------------------\n",
            "\n",
            "List 1:  [48, 30, 32, 79, 17, 51, 81, 96, 12, 33, 95, 85]\n",
            "List 2:  [24, 71, 35, 64, 12, 94, 39, 34, 55, 91, 25, 6]\n",
            "\n",
            "Multiplication result =  [ 2304.  2880.  3972.  9504.  7396. 10972. 18165. 20026. 20443. 24564.\n",
            " 32391. 29394. 33155. 38348. 31186. 20230. 30540. 32802. 19689.  8310.\n",
            " 14635. 16150.  7225.]\n",
            "\n",
            "Time elapsed to calculate a 12th degree polynomial multiplication:  0.18143653869628906 milliseconds\n"
          ]
        }
      ],
      "source": [
        "# @title\n",
        "def list_mult(list1,list2):\n",
        "\n",
        "  # Multiplies the matrices of polynomial coefficients by FOIL\n",
        "  result = np.zeros(len(list1)*2 - 1)\n",
        "  for i in range(len(list1)):\n",
        "    for j in range(len(list2)):\n",
        "      result[i+j] += list1[i]*list2[j]\n",
        "  return result\n",
        "\n",
        "  # TEST CASES - Complete\n",
        "\n",
        "  # Case 1 - 4th degree polynomial\n",
        "  # OUTPUT FORMAT: [a,b,c,d,e] where a = a*x^4, b = b*x^3, c = c*x^2, d = d*x^1, e = x^0 * e\n",
        "listx = [1,2,3]\n",
        "listy=[4,5,6]\n",
        "start = time.time()\n",
        "list_mult(listx,listy)\n",
        "end = time.time()\n",
        "print(\"\\nList 1 = \", listx,\"\\nList 2 = \",listy)\n",
        "\n",
        "print(\"\\nMultiplication Result  = \",list_mult(listx,listy))\n",
        "print(\"\\nTime elapsed to calculate a 3rd degree polynomial multiplication: \", (end - start)*1000 , \"milliseconds\")\n",
        "# Case 2 - 13th degree polynomial\n",
        "\n",
        "list1 = rand.sample(range(1,100),12)\n",
        "print (\"\\n\\n\\n-----------------------------------------------------------------------------\\n\\nList 1: \",list1)\n",
        "list2 = rand.sample(range(1,100),12)\n",
        "print(\"List 2: \", list2)\n",
        "start = time.time()\n",
        "\n",
        "a = list_mult(list1,list1)\n",
        "end = time.time()\n",
        "\n",
        "print(\"\\nMultiplication result = \",a)\n",
        "print(\"\\nTime elapsed to calculate a 12th degree polynomial multiplication: \", (end - start)*1000 , \"milliseconds\")\n"
      ]
    },
    {
      "cell_type": "markdown",
      "metadata": {
        "id": "734kbQOC2tPG"
      },
      "source": [
        "# IDENTITY MATRIX"
      ]
    },
    {
      "cell_type": "code",
      "execution_count": null,
      "metadata": {
        "colab": {
          "base_uri": "https://localhost:8080/"
        },
        "id": "vx34HtV79HU4",
        "outputId": "672f8f10-ef70-453b-ae32-ca39c6ae6f4d"
      },
      "outputs": [
        {
          "name": "stdout",
          "output_type": "stream",
          "text": [
            "Enter a value N to build an N x N Identity matrix: 20\n",
            "[[1. 0. 0. 0. 0. 0. 0. 0. 0. 0. 0. 0. 0. 0. 0. 0. 0. 0. 0. 0.]\n",
            " [0. 1. 0. 0. 0. 0. 0. 0. 0. 0. 0. 0. 0. 0. 0. 0. 0. 0. 0. 0.]\n",
            " [0. 0. 1. 0. 0. 0. 0. 0. 0. 0. 0. 0. 0. 0. 0. 0. 0. 0. 0. 0.]\n",
            " [0. 0. 0. 1. 0. 0. 0. 0. 0. 0. 0. 0. 0. 0. 0. 0. 0. 0. 0. 0.]\n",
            " [0. 0. 0. 0. 1. 0. 0. 0. 0. 0. 0. 0. 0. 0. 0. 0. 0. 0. 0. 0.]\n",
            " [0. 0. 0. 0. 0. 1. 0. 0. 0. 0. 0. 0. 0. 0. 0. 0. 0. 0. 0. 0.]\n",
            " [0. 0. 0. 0. 0. 0. 1. 0. 0. 0. 0. 0. 0. 0. 0. 0. 0. 0. 0. 0.]\n",
            " [0. 0. 0. 0. 0. 0. 0. 1. 0. 0. 0. 0. 0. 0. 0. 0. 0. 0. 0. 0.]\n",
            " [0. 0. 0. 0. 0. 0. 0. 0. 1. 0. 0. 0. 0. 0. 0. 0. 0. 0. 0. 0.]\n",
            " [0. 0. 0. 0. 0. 0. 0. 0. 0. 1. 0. 0. 0. 0. 0. 0. 0. 0. 0. 0.]\n",
            " [0. 0. 0. 0. 0. 0. 0. 0. 0. 0. 1. 0. 0. 0. 0. 0. 0. 0. 0. 0.]\n",
            " [0. 0. 0. 0. 0. 0. 0. 0. 0. 0. 0. 1. 0. 0. 0. 0. 0. 0. 0. 0.]\n",
            " [0. 0. 0. 0. 0. 0. 0. 0. 0. 0. 0. 0. 1. 0. 0. 0. 0. 0. 0. 0.]\n",
            " [0. 0. 0. 0. 0. 0. 0. 0. 0. 0. 0. 0. 0. 1. 0. 0. 0. 0. 0. 0.]\n",
            " [0. 0. 0. 0. 0. 0. 0. 0. 0. 0. 0. 0. 0. 0. 1. 0. 0. 0. 0. 0.]\n",
            " [0. 0. 0. 0. 0. 0. 0. 0. 0. 0. 0. 0. 0. 0. 0. 1. 0. 0. 0. 0.]\n",
            " [0. 0. 0. 0. 0. 0. 0. 0. 0. 0. 0. 0. 0. 0. 0. 0. 1. 0. 0. 0.]\n",
            " [0. 0. 0. 0. 0. 0. 0. 0. 0. 0. 0. 0. 0. 0. 0. 0. 0. 1. 0. 0.]\n",
            " [0. 0. 0. 0. 0. 0. 0. 0. 0. 0. 0. 0. 0. 0. 0. 0. 0. 0. 1. 0.]\n",
            " [0. 0. 0. 0. 0. 0. 0. 0. 0. 0. 0. 0. 0. 0. 0. 0. 0. 0. 0. 1.]]\n"
          ]
        }
      ],
      "source": [
        "# @title\n",
        "def identityMatrix():\n",
        "  dimension = int(input(\"Enter a value N to build an N x N Identity matrix: \"))\n",
        "  matrix = np.eye(dimension)\n",
        "\n",
        "  return matrix\n",
        "\n",
        "# TEST CASE - Complete\n",
        "print(identityMatrix())"
      ]
    }
  ],
  "metadata": {
    "colab": {
      "provenance": []
    },
    "kernelspec": {
      "display_name": "Python 3",
      "name": "python3"
    },
    "language_info": {
      "name": "python"
    }
  },
  "nbformat": 4,
  "nbformat_minor": 0
}