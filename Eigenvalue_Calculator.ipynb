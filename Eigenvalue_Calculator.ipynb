{
  "nbformat": 4,
  "nbformat_minor": 0,
  "metadata": {
    "colab": {
      "provenance": []
    },
    "kernelspec": {
      "name": "python3",
      "display_name": "Python 3"
    },
    "language_info": {
      "name": "python"
    }
  },
  "cells": [
    {
      "cell_type": "markdown",
      "source": [
        "# Download/Import PACKAGES"
      ],
      "metadata": {
        "id": "TzZ6vvBK2v2w"
      }
    },
    {
      "cell_type": "code",
      "execution_count": null,
      "metadata": {
        "id": "frjj_u6V5G5h",
        "colab": {
          "base_uri": "https://localhost:8080/"
        },
        "outputId": "e46d7c40-7d5f-4979-dfa7-c1134ff2c5f7",
        "cellView": "form"
      },
      "outputs": [
        {
          "output_type": "stream",
          "name": "stdout",
          "text": [
            "Requirement already satisfied: numpy in /usr/local/lib/python3.10/dist-packages (1.25.2)\n"
          ]
        }
      ],
      "source": [
        "# @title\n",
        "!pip install numpy"
      ]
    },
    {
      "cell_type": "code",
      "source": [
        "def productExceptSelf( nums):\n",
        "      result = 0\n",
        "\n",
        "      copyArray = nums\n",
        "      multiple  = 1;\n",
        "\n",
        "      for i in copyArray:\n",
        "          multiple *= i\n",
        "      print (multiple)\n",
        "      answer = [0] * len(nums)\n",
        "      print (answer)\n",
        "      for i in range(len(answer)):\n",
        "          answer[i] = multiple / nums[i]\n",
        "\n",
        "      print (answer)\n",
        "productExceptSelf([1,2,3,4,5])"
      ],
      "metadata": {
        "colab": {
          "base_uri": "https://localhost:8080/"
        },
        "id": "bMVr96o71H6Q",
        "outputId": "1895f527-2034-467f-b6be-d578afb89287"
      },
      "execution_count": 8,
      "outputs": [
        {
          "output_type": "stream",
          "name": "stdout",
          "text": [
            "120\n",
            "[0, 0, 0, 0, 0]\n",
            "[120.0, 60.0, 40.0, 30.0, 24.0]\n"
          ]
        }
      ]
    },
    {
      "cell_type": "code",
      "source": [
        "# @title\n",
        "import numpy as np\n",
        "import time\n",
        "import random as rand\n",
        "import sympy as sym"
      ],
      "metadata": {
        "id": "6S8M7yNH5UYm",
        "cellView": "form"
      },
      "execution_count": null,
      "outputs": []
    },
    {
      "cell_type": "markdown",
      "source": [
        "# REDUCED ROW ECHELON FORM"
      ],
      "metadata": {
        "id": "HWXaqosxWHOI"
      }
    },
    {
      "cell_type": "code",
      "source": [
        "# @title\n",
        "A = sym.Matrix([[1,2,4,7,8],[6,9,4,2,0],[5,6,7,2,1],[8,9,4,3,4],[2,7,3,5,0]])\n",
        "print(\"\\nThe matrix A = \", A)\n",
        "\n",
        "start = time.time()\n",
        "RREF = A.rref()\n",
        "end = time.time()\n",
        "\n",
        "print(\"\\n\\nThe RREF of A = \", RREF)\n",
        "\n",
        "print(\"\\n\\nTime elapse for Reduced Row Echelon calculation: \", (end - start)*1000, \"milliseconds\" )"
      ],
      "metadata": {
        "colab": {
          "base_uri": "https://localhost:8080/"
        },
        "id": "fMfIHccXWUKA",
        "outputId": "d728929f-b69b-40d5-d294-2dafc8a81e8d",
        "cellView": "form"
      },
      "execution_count": null,
      "outputs": [
        {
          "output_type": "stream",
          "name": "stdout",
          "text": [
            "\n",
            "The matrix A =  Matrix([[1, 2, 4, 7, 8], [6, 9, 4, 2, 0], [5, 6, 7, 2, 1], [8, 9, 4, 3, 4], [2, 7, 3, 5, 0]])\n",
            "\n",
            "\n",
            "The RREF of A =  (Matrix([\n",
            "[1, 0, 0, 0, 0],\n",
            "[0, 1, 0, 0, 0],\n",
            "[0, 0, 1, 0, 0],\n",
            "[0, 0, 0, 1, 0],\n",
            "[0, 0, 0, 0, 1]]), (0, 1, 2, 3, 4))\n",
            "\n",
            "\n",
            "Time elapse for Reduced Row Echelon calculation:  1.5997886657714844 milliseconds\n"
          ]
        }
      ]
    },
    {
      "cell_type": "markdown",
      "source": [
        "# POLYNOMIAL MULTIPLICATION"
      ],
      "metadata": {
        "id": "Z-zPo_622rJT"
      }
    },
    {
      "cell_type": "code",
      "source": [
        "# @title\n",
        "def list_mult(list1,list2):\n",
        "\n",
        "  # Multiplies the matrices of polynomial coefficients by FOIL\n",
        "  result = np.zeros(len(list1)*2 - 1)\n",
        "  for i in range(len(list1)):\n",
        "    for j in range(len(list2)):\n",
        "      result[i+j] += list1[i]*list2[j]\n",
        "  return result\n",
        "\n",
        "  # TEST CASES - Complete\n",
        "\n",
        "  # Case 1 - 4th degree polynomial\n",
        "  # OUTPUT FORMAT: [a,b,c,d,e] where a = a*x^4, b = b*x^3, c = c*x^2, d = d*x^1, e = x^0 * e\n",
        "listx = [1,2,3]\n",
        "listy=[4,5,6]\n",
        "start = time.time()\n",
        "\n",
        "list_mult(listx,listy)\n",
        "end = time.time()\n",
        "print(\"\\nList 1 = \", listx,\"\\nList 2 = \",listy)\n",
        "\n",
        "print(\"\\nMultiplication Result  = \",list_mult(listx,listy))\n",
        "print(\"\\nTime elapsed to calculate a 3rd degree polynomial multiplication: \", (end - start)*1000 , \"milliseconds\")\n",
        "# Case 2 - 13th degree polynomial\n",
        "\n",
        "list1 = rand.sample(range(1,100),12)\n",
        "print (\"\\n\\n\\n-----------------------------------------------------------------------------\\n\\nList 1: \",list1)\n",
        "list2 = rand.sample(range(1,100),12)\n",
        "print(\"List 2: \", list2)\n",
        "start = time.time()\n",
        "\n",
        "a = list_mult(list1,list1)\n",
        "end = time.time()\n",
        "\n",
        "print(\"\\nMultiplication result = \",a)\n",
        "print(\"\\nTime elapsed to calculate a 12th degree polynomial multiplication: \", (end - start)*1000 , \"milliseconds\")\n"
      ],
      "metadata": {
        "colab": {
          "base_uri": "https://localhost:8080/"
        },
        "id": "2fgCa46T-elM",
        "outputId": "851c4081-1362-44c5-c2b2-2d4a3527f370",
        "cellView": "form"
      },
      "execution_count": null,
      "outputs": [
        {
          "output_type": "stream",
          "name": "stdout",
          "text": [
            "\n",
            "List 1 =  [1, 2, 3] \n",
            "List 2 =  [4, 5, 6]\n",
            "\n",
            "Multiplication Result  =  [ 4. 13. 28. 27. 18.]\n",
            "\n",
            "Time elapsed to calculate a 3rd degree polynomial multiplication:  0.1850128173828125 milliseconds\n",
            "\n",
            "\n",
            "\n",
            "-----------------------------------------------------------------------------\n",
            "\n",
            "List 1:  [39, 15, 88, 22, 6, 80, 65, 35, 26, 30, 92, 73]\n",
            "List 2:  [17, 33, 75, 13, 93, 53, 54, 57, 98, 83, 37, 92]\n",
            "\n",
            "Multiplication result =  [ 1521.  1170.  7089.  4356.  8872. 10292.  9010. 19024. 18074. 13100.\n",
            " 21372. 25698. 29839. 25966. 13721. 21316. 26416. 17490. 10794.  9316.\n",
            " 12844. 13432.  5329.]\n",
            "\n",
            "Time elapsed to calculate a 12th degree polynomial multiplication:  0.2067089080810547 milliseconds\n"
          ]
        }
      ]
    },
    {
      "cell_type": "markdown",
      "source": [
        "# IDENTITY MATRIX"
      ],
      "metadata": {
        "id": "734kbQOC2tPG"
      }
    },
    {
      "cell_type": "code",
      "source": [
        "# @title\n",
        "def identityMatrix(dimension):\n",
        "  matrix = np.eye(dimension)\n",
        "\n",
        "  return matrix\n",
        "\n",
        "# TEST CASE - Complete\n",
        "print(identityMatrix(10))"
      ],
      "metadata": {
        "colab": {
          "base_uri": "https://localhost:8080/"
        },
        "id": "vx34HtV79HU4",
        "outputId": "76e61b6b-701a-4cb5-af2e-e6d018ee8194",
        "cellView": "form"
      },
      "execution_count": null,
      "outputs": [
        {
          "output_type": "stream",
          "name": "stdout",
          "text": [
            "[[1. 0. 0. 0. 0. 0. 0. 0. 0. 0.]\n",
            " [0. 1. 0. 0. 0. 0. 0. 0. 0. 0.]\n",
            " [0. 0. 1. 0. 0. 0. 0. 0. 0. 0.]\n",
            " [0. 0. 0. 1. 0. 0. 0. 0. 0. 0.]\n",
            " [0. 0. 0. 0. 1. 0. 0. 0. 0. 0.]\n",
            " [0. 0. 0. 0. 0. 1. 0. 0. 0. 0.]\n",
            " [0. 0. 0. 0. 0. 0. 1. 0. 0. 0.]\n",
            " [0. 0. 0. 0. 0. 0. 0. 1. 0. 0.]\n",
            " [0. 0. 0. 0. 0. 0. 0. 0. 1. 0.]\n",
            " [0. 0. 0. 0. 0. 0. 0. 0. 0. 1.]]\n"
          ]
        }
      ]
    },
    {
      "cell_type": "markdown",
      "source": [
        "# LIST ADDITION AND SUBTRACTION"
      ],
      "metadata": {
        "id": "0peEB6Hp2nYt"
      }
    },
    {
      "cell_type": "code",
      "source": [
        "# @title\n",
        "def add_lists(L1,L2):\n",
        "\n",
        "  # Add each element from row i and column j\n",
        "  return list((i + j for i,j in zip(L1,L2)))\n",
        "\n",
        "def subtract_lists(L1,L2):\n",
        "  return list((i-j for i,j in zip(L1,L2)))\n",
        "\n",
        "# TEST CASE ADD\n",
        "listx = [1,2,3]\n",
        "listy=[4,5,6]\n",
        "\n",
        "print(\"\\nList x + List y = \", add_lists(listx,listy))\n",
        "\n",
        "# TEST CASE SUBTRACT\n",
        "\n",
        "print(\"\\n\\nList x - List y = \",subtract_lists(listx,listy))"
      ],
      "metadata": {
        "colab": {
          "base_uri": "https://localhost:8080/"
        },
        "id": "gFbs_iEBHTA3",
        "outputId": "eafdbbe3-e44d-4468-f0c7-ec7d78299301",
        "cellView": "form"
      },
      "execution_count": null,
      "outputs": [
        {
          "output_type": "stream",
          "name": "stdout",
          "text": [
            "\n",
            "List x + List y =  [5, 7, 9]\n",
            "\n",
            "\n",
            "List x - List y =  [-3, -3, -3]\n"
          ]
        }
      ]
    },
    {
      "cell_type": "markdown",
      "source": [
        "*FINDS DETERMINANT*"
      ],
      "metadata": {
        "id": "w9KD58cX2h3D"
      }
    },
    {
      "cell_type": "code",
      "source": [
        "# @title\n",
        "def get_det(matrix):\n",
        "   try:\n",
        "    return np.linalg.det(matrix)\n",
        "   except np.linalg.LinAlgError:\n",
        "      return \"\\n\\nA Linear Algebra Error occured: Determinants of an M x N matrix could not be calculated \"\n",
        "\n",
        "# Retrieves determinant of any N x N matrix\n",
        "\n",
        "\n",
        "## TEST CASES - Complete\n",
        "\n",
        "# Case 1 - Square Matrix\n",
        "list_A = np.random.randn(3,3)\n",
        "\n",
        "# Case 2 -  M x N matrix: Raises Math Error because a determinant of an m x n matrix isn't real\n",
        "list_B = np.random.randn(4,3)\n",
        "print(\"List A: \",list_A)\n",
        "print(\"\\n(Rows,Columns) = \",np.shape(list_A))\n",
        "print(\"\\nDeterminant: \",get_det(list_A))\n",
        "\n",
        "print(\"\\n\\n---------------------------------------------------------------------\\n\\nList B: \",list_B)\n",
        "print(\"\\n(Rows,Columns) = \",np.shape(list_B))\n",
        "print(\"\\nDeterminant: \",get_det(list_B))\n"
      ],
      "metadata": {
        "colab": {
          "base_uri": "https://localhost:8080/"
        },
        "id": "ea4EGZQdxq6K",
        "outputId": "b685eab9-8b07-49a0-8c6c-5e5e55fcef36",
        "cellView": "form"
      },
      "execution_count": null,
      "outputs": [
        {
          "output_type": "stream",
          "name": "stdout",
          "text": [
            "List A:  [[ 0.51167206 -0.40640818  0.62069578]\n",
            " [ 1.39553892 -0.37574077  0.07483005]\n",
            " [-1.39937612 -1.56868274 -0.97257487]]\n",
            "\n",
            "(Rows,Columns) =  (3, 3)\n",
            "\n",
            "Determinant:  -1.9471655179506664\n",
            "\n",
            "\n",
            "---------------------------------------------------------------------\n",
            "\n",
            "List B:  [[ 1.36501822 -1.08837964 -0.27629383]\n",
            " [-0.70928894 -0.10863957 -0.90171124]\n",
            " [-0.05387099  0.59579314  0.67769082]\n",
            " [ 0.76371169 -1.32025926 -1.37018139]]\n",
            "\n",
            "(Rows,Columns) =  (4, 3)\n",
            "\n",
            "Determinant:  \n",
            "\n",
            "A Linear Algebra Error occured: Determinants of an M x N matrix could not be calculated \n"
          ]
        }
      ]
    },
    {
      "cell_type": "code",
      "source": [
        "# @title\n",
        "def get_eigvalues(matrix):\n",
        "\n",
        "\n",
        "  return np.linalg.eigvals(matrix)\n",
        "# TEST CASES - Complete\n",
        "\n",
        "# Case 1 - simple N x N matrix\n",
        "matrix = [[2,4,6],[17,3,4],[50,60,90]]\n",
        "print(\"Eigenvalues for the test matrix: \", get_eigvalues(matrix))"
      ],
      "metadata": {
        "id": "TZtikJ6I2hCQ",
        "colab": {
          "base_uri": "https://localhost:8080/"
        },
        "outputId": "d378dd4a-dadc-4158-ac69-da94143ed1f4",
        "cellView": "form"
      },
      "execution_count": null,
      "outputs": [
        {
          "output_type": "stream",
          "name": "stdout",
          "text": [
            "Eigenvalues for the test matrix:  [96.5697034  -1.79983976  0.23013637]\n"
          ]
        }
      ]
    }
  ]
}